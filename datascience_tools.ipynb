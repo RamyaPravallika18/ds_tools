{
  "nbformat": 4,
  "nbformat_minor": 0,
  "metadata": {
    "colab": {
      "provenance": []
    },
    "kernelspec": {
      "name": "python3",
      "display_name": "Python 3"
    },
    "language_info": {
      "name": "python"
    }
  },
  "cells": [
    {
      "cell_type": "markdown",
      "source": [
        "**DATA SCIENCE TOOLS**"
      ],
      "metadata": {
        "id": "ibCbffJmWHzm"
      }
    },
    {
      "cell_type": "markdown",
      "source": [
        "I this notebook we are going to discuss the data science tools and ecosystems"
      ],
      "metadata": {
        "id": "KPEEAonuWejf"
      }
    },
    {
      "cell_type": "markdown",
      "source": [
        "Some of the commonly used libraries by data scientists are:\n",
        "1. Tensorflow\n",
        "2. NumPy\n",
        "3. SciPy\n",
        "4. Pandas\n",
        "5. Matplotlib\n",
        "6. Keras\n",
        "7. Scikit-learn\n",
        "8. PyTorch etc.,"
      ],
      "metadata": {
        "id": "ZYTb-plRW_F4"
      }
    },
    {
      "cell_type": "markdown",
      "source": [
        "Some of the popular languages that data scientists use are:\n",
        "1. Python\n",
        "2. R\n",
        "3. SQL\n",
        "4. C++\n",
        "5. JAVA etc.,"
      ],
      "metadata": {
        "id": "wM9UId04Wo-S"
      }
    },
    {
      "cell_type": "markdown",
      "source": [
        "|Data Science Tools|\n",
        "|----|\n",
        "|SAS|\n",
        "|Apache Hadoop|\n",
        "|Tensorflow|\n"
      ],
      "metadata": {
        "id": "Xk1_FSyhXmLd"
      }
    },
    {
      "cell_type": "markdown",
      "source": [
        "### Below are the few examples of evaluating arithmetic expressions in python"
      ],
      "metadata": {
        "id": "cNmIEGLYYCze"
      }
    },
    {
      "cell_type": "code",
      "source": [
        "#this is a common example to multiply and then add integers\n",
        "(3*4)+5"
      ],
      "metadata": {
        "colab": {
          "base_uri": "https://localhost:8080/"
        },
        "id": "UaMeJXl2XSV3",
        "outputId": "d428d034-2873-4ae8-ccda-018f3f7c585b"
      },
      "execution_count": 1,
      "outputs": [
        {
          "output_type": "execute_result",
          "data": {
            "text/plain": [
              "17"
            ]
          },
          "metadata": {},
          "execution_count": 1
        }
      ]
    },
    {
      "cell_type": "code",
      "source": [
        "#this will convert 200 minutes to hours by dividing by 60\n",
        "200/60"
      ],
      "metadata": {
        "colab": {
          "base_uri": "https://localhost:8080/"
        },
        "id": "200GyKDqY-Dp",
        "outputId": "e4e10fa5-a7a7-4f3b-c593-965b3b67bdd6"
      },
      "execution_count": 2,
      "outputs": [
        {
          "output_type": "execute_result",
          "data": {
            "text/plain": [
              "3.3333333333333335"
            ]
          },
          "metadata": {},
          "execution_count": 2
        }
      ]
    },
    {
      "cell_type": "markdown",
      "source": [
        "**Objective**\n",
        "\n",
        "\n",
        "*   List Popular languages for datascience\n",
        "*   List popular libraries for datascience\n",
        "*   List of well known datascience tools\n",
        "*   How to provide comments in the cell\n"
      ],
      "metadata": {
        "id": "OqkVHo7vZKZ0"
      }
    },
    {
      "cell_type": "markdown",
      "source": [
        "## Author\n",
        "Ramya Pravallika"
      ],
      "metadata": {
        "id": "hXEz8GuKZwj1"
      }
    }
  ]
}